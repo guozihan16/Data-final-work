{
 "cells": [
  {
   "cell_type": "markdown",
   "metadata": {},
   "source": [
    "# Topic Modeling\n",
    "\n",
    "In this assignment, \n",
    "In the text file 'surrogacy.txt',I selected 10 articles from WeChat ,each of which is related to surrogacy.\n",
    "Firstly,look the title of each article:\n",
    "1. 郑爽疑代孕2子，我们再来聊聊代孕\n",
    "2. 全国人大代表朱列玉：建议有条件允许合法代孕\n",
    "3. 代孕背后，法律与伦理\n",
    "4. 为什么反对代孕，这次讲清楚\n",
    "5. 代孕过程如豪赌！90万包生男孩，畸形会打掉\n",
    "6. 中国人在国外代孕，到底违法吗？\n",
    "7. 一个曾经允许商业代孕的大国，发生过什么？\n",
    "8. 商业代孕，带来的是希望，还是剥削？\n",
    "9. 在代孕合法的乌克兰，女性成了生育机器，“残次”婴儿会被丢弃\n",
    "10. 俄罗斯每年代孕十万婴儿 是否禁止代孕引发争论\n",
    "\n",
    "\n",
    "There are 3 main concerns :\n",
    "1. 代孕的法律问题\n",
    "2. 代孕产业链\n",
    "3. 国外的代孕"
   ]
  },
  {
   "cell_type": "markdown",
   "metadata": {},
   "source": [
    "# Import data and preprocess"
   ]
  },
  {
   "cell_type": "code",
   "execution_count": 3,
   "metadata": {
    "scrolled": true
   },
   "outputs": [
    {
     "data": {
      "text/plain": [
       "10"
      ]
     },
     "execution_count": 3,
     "metadata": {},
     "output_type": "execute_result"
    }
   ],
   "source": [
    "# import necessary packages\n",
    "import pandas as pd\n",
    "import numpy as np\n",
    "import nltk\n",
    "\n",
    "# import the text file\n",
    "file = open('surrogacy.txt',encoding = 'utf-8')\n",
    "# read all lines and clean data\n",
    "lines = file.readlines()\n",
    "# clean /n and empty lines\n",
    "lines = [l.strip() for l in lines]\n",
    "lines = [l for l in lines if l != \"\"]\n",
    "\n",
    "len(lines)"
   ]
  },
  {
   "cell_type": "markdown",
   "metadata": {},
   "source": [
    "# DTM"
   ]
  },
  {
   "cell_type": "code",
   "execution_count": 17,
   "metadata": {},
   "outputs": [],
   "source": [
    "# introduce chinese stopwords\n",
    "stpwrdpath = 'C:\\\\Users\\\\guozihan\\Desktop\\\\chinese.txt'\n",
    "with open(stpwrdpath, 'rb') as fp:\n",
    "    stopword = fp.read().decode('utf-8')    \n",
    "stpwrdlst = stopword.splitlines()"
   ]
  },
  {
   "cell_type": "code",
   "execution_count": 19,
   "metadata": {},
   "outputs": [],
   "source": [
    "# import CountVectorizer\n",
    "from sklearn.feature_extraction.text import CountVectorizer\n",
    "\n",
    "# convert text data to a DTM\n",
    "tf_vectorizer = CountVectorizer(stop_words = stpwrdlst)\n",
    "dtm_epl = tf_vectorizer.fit_transform(lines)"
   ]
  },
  {
   "cell_type": "code",
   "execution_count": 20,
   "metadata": {
    "scrolled": true
   },
   "outputs": [
    {
     "data": {
      "text/plain": [
       "array([[1, 1, 0, ..., 1, 0, 0],\n",
       "       [0, 0, 0, ..., 0, 0, 0],\n",
       "       [0, 0, 1, ..., 0, 0, 0],\n",
       "       ...,\n",
       "       [0, 0, 0, ..., 0, 0, 0],\n",
       "       [0, 0, 0, ..., 0, 0, 0],\n",
       "       [0, 0, 0, ..., 0, 0, 0]], dtype=int64)"
      ]
     },
     "execution_count": 20,
     "metadata": {},
     "output_type": "execute_result"
    }
   ],
   "source": [
    "# convert the DTM to a numpy array \n",
    "dtm_epl.toarray()"
   ]
  },
  {
   "cell_type": "markdown",
   "metadata": {},
   "source": [
    "# LDA"
   ]
  },
  {
   "cell_type": "code",
   "execution_count": 21,
   "metadata": {},
   "outputs": [
    {
     "data": {
      "text/plain": [
       "LatentDirichletAllocation(n_components=3, random_state=0)"
      ]
     },
     "execution_count": 21,
     "metadata": {},
     "output_type": "execute_result"
    }
   ],
   "source": [
    "# import LDA\n",
    "from sklearn.decomposition import LatentDirichletAllocation\n",
    "\n",
    "# train LDA with 3 topics\n",
    "lda = LatentDirichletAllocation(n_components=3, random_state=0)\n",
    "\n",
    "# fit the dtm into the lda object\n",
    "lda.fit(dtm_epl)"
   ]
  },
  {
   "cell_type": "markdown",
   "metadata": {},
   "source": [
    "# Results"
   ]
  },
  {
   "cell_type": "code",
   "execution_count": 23,
   "metadata": {
    "scrolled": true
   },
   "outputs": [
    {
     "data": {
      "text/html": [
       "<div>\n",
       "<style scoped>\n",
       "    .dataframe tbody tr th:only-of-type {\n",
       "        vertical-align: middle;\n",
       "    }\n",
       "\n",
       "    .dataframe tbody tr th {\n",
       "        vertical-align: top;\n",
       "    }\n",
       "\n",
       "    .dataframe thead th {\n",
       "        text-align: right;\n",
       "    }\n",
       "</style>\n",
       "<table border=\"1\" class=\"dataframe\">\n",
       "  <thead>\n",
       "    <tr style=\"text-align: right;\">\n",
       "      <th></th>\n",
       "      <th>Topic</th>\n",
       "      <th>Top 1 Word*Prob</th>\n",
       "      <th>Top 2 Word*Prob</th>\n",
       "      <th>Top 3 Word*Prob</th>\n",
       "      <th>Top 4 Word*Prob</th>\n",
       "      <th>Top 5 Word*Prob</th>\n",
       "    </tr>\n",
       "  </thead>\n",
       "  <tbody>\n",
       "    <tr>\n",
       "      <th>0</th>\n",
       "      <td>Topic #0:</td>\n",
       "      <td>自愿*0.0018</td>\n",
       "      <td>梅利尼科夫说*0.0018</td>\n",
       "      <td>消息报*0.0018</td>\n",
       "      <td>俄罗斯*0.0018</td>\n",
       "      <td>20*0.001</td>\n",
       "    </tr>\n",
       "    <tr>\n",
       "      <th>1</th>\n",
       "      <td>Topic #1:</td>\n",
       "      <td>代妈*0.0052</td>\n",
       "      <td>人类辅助生殖技术管理办法*0.0037</td>\n",
       "      <td>上海添丁生殖集团*0.0027</td>\n",
       "      <td>天使助孕*0.0022</td>\n",
       "      <td>代孕*0.0022</td>\n",
       "    </tr>\n",
       "    <tr>\n",
       "      <th>2</th>\n",
       "      <td>Topic #2:</td>\n",
       "      <td>代孕*0.0034</td>\n",
       "      <td>蓝色宝贝*0.0028</td>\n",
       "      <td>代母*0.0023</td>\n",
       "      <td>陈女士称*0.0018</td>\n",
       "      <td>刑法*0.0018</td>\n",
       "    </tr>\n",
       "  </tbody>\n",
       "</table>\n",
       "</div>"
      ],
      "text/plain": [
       "       Topic Top 1 Word*Prob      Top 2 Word*Prob  Top 3 Word*Prob  \\\n",
       "0  Topic #0:       自愿*0.0018        梅利尼科夫说*0.0018       消息报*0.0018   \n",
       "1  Topic #1:       代妈*0.0052  人类辅助生殖技术管理办法*0.0037  上海添丁生殖集团*0.0027   \n",
       "2  Topic #2:       代孕*0.0034          蓝色宝贝*0.0028        代母*0.0023   \n",
       "\n",
       "  Top 4 Word*Prob Top 5 Word*Prob  \n",
       "0      俄罗斯*0.0018        20*0.001  \n",
       "1     天使助孕*0.0022       代孕*0.0022  \n",
       "2     陈女士称*0.0018       刑法*0.0018  "
      ]
     },
     "execution_count": 23,
     "metadata": {},
     "output_type": "execute_result"
    }
   ],
   "source": [
    "# get the topic-word(term) association for the LDA object\n",
    "topic_word_matrix = lda.components_\n",
    "\n",
    "# retrieve top 5 words for each topic\n",
    "no_top_words = 5\n",
    "feature_names = tf_vectorizer.get_feature_names()\n",
    "\n",
    "# create a dataframe for displaying the results\n",
    "rows = []\n",
    "\n",
    "for topic_id, topic in enumerate(topic_word_matrix):\n",
    "    row = [\"Topic #\" + str(topic_id) + \":\"]\n",
    "    row += [\n",
    "        feature_names[i] + \"*\" + str(np.round(topic[i] / np.sum(topic), 4))\n",
    "        for i in topic.argsort()[:-no_top_words - 1:-1]\n",
    "    ]\n",
    "    rows.append(row)\n",
    "\n",
    "topic_word_df = pd.DataFrame(rows, columns=['Topic', 'Top 1 Word*Prob', 'Top 2 Word*Prob', \\\n",
    "                                            'Top 3 Word*Prob', 'Top 4 Word*Prob', 'Top 5 Word*Prob'])\n",
    "\n",
    "topic_word_df"
   ]
  },
  {
   "cell_type": "code",
   "execution_count": 24,
   "metadata": {},
   "outputs": [],
   "source": [
    "# According to this result,\n",
    "# topic 0 = 国外的代孕\n",
    "# topic 1 = 代孕产业链\n",
    "# topic 2 = 代孕的法律问题"
   ]
  },
  {
   "cell_type": "markdown",
   "metadata": {},
   "source": [
    "## The topic mixture for each document"
   ]
  },
  {
   "cell_type": "code",
   "execution_count": 15,
   "metadata": {
    "scrolled": true
   },
   "outputs": [
    {
     "data": {
      "text/html": [
       "<div>\n",
       "<style scoped>\n",
       "    .dataframe tbody tr th:only-of-type {\n",
       "        vertical-align: middle;\n",
       "    }\n",
       "\n",
       "    .dataframe tbody tr th {\n",
       "        vertical-align: top;\n",
       "    }\n",
       "\n",
       "    .dataframe thead th {\n",
       "        text-align: right;\n",
       "    }\n",
       "</style>\n",
       "<table border=\"1\" class=\"dataframe\">\n",
       "  <thead>\n",
       "    <tr style=\"text-align: right;\">\n",
       "      <th></th>\n",
       "      <th>Document</th>\n",
       "      <th>Top1 Topic*Prob</th>\n",
       "      <th>Top2 Topic*Prob</th>\n",
       "    </tr>\n",
       "  </thead>\n",
       "  <tbody>\n",
       "    <tr>\n",
       "      <th>0</th>\n",
       "      <td># 0</td>\n",
       "      <td>Topic2*1.0</td>\n",
       "      <td>Topic1*0.0</td>\n",
       "    </tr>\n",
       "    <tr>\n",
       "      <th>1</th>\n",
       "      <td># 1</td>\n",
       "      <td>Topic2*0.99</td>\n",
       "      <td>Topic0*0.0</td>\n",
       "    </tr>\n",
       "    <tr>\n",
       "      <th>2</th>\n",
       "      <td># 2</td>\n",
       "      <td>Topic1*1.0</td>\n",
       "      <td>Topic2*0.0</td>\n",
       "    </tr>\n",
       "    <tr>\n",
       "      <th>3</th>\n",
       "      <td># 3</td>\n",
       "      <td>Topic1*0.99</td>\n",
       "      <td>Topic2*0.0</td>\n",
       "    </tr>\n",
       "    <tr>\n",
       "      <th>4</th>\n",
       "      <td># 4</td>\n",
       "      <td>Topic1*1.0</td>\n",
       "      <td>Topic2*0.0</td>\n",
       "    </tr>\n",
       "    <tr>\n",
       "      <th>5</th>\n",
       "      <td># 5</td>\n",
       "      <td>Topic2*1.0</td>\n",
       "      <td>Topic1*0.0</td>\n",
       "    </tr>\n",
       "    <tr>\n",
       "      <th>6</th>\n",
       "      <td># 6</td>\n",
       "      <td>Topic0*1.0</td>\n",
       "      <td>Topic2*0.0</td>\n",
       "    </tr>\n",
       "    <tr>\n",
       "      <th>7</th>\n",
       "      <td># 7</td>\n",
       "      <td>Topic2*1.0</td>\n",
       "      <td>Topic0*0.0</td>\n",
       "    </tr>\n",
       "    <tr>\n",
       "      <th>8</th>\n",
       "      <td># 8</td>\n",
       "      <td>Topic1*1.0</td>\n",
       "      <td>Topic0*0.0</td>\n",
       "    </tr>\n",
       "    <tr>\n",
       "      <th>9</th>\n",
       "      <td># 9</td>\n",
       "      <td>Topic0*0.99</td>\n",
       "      <td>Topic2*0.0</td>\n",
       "    </tr>\n",
       "  </tbody>\n",
       "</table>\n",
       "</div>"
      ],
      "text/plain": [
       "  Document Top1 Topic*Prob Top2 Topic*Prob\n",
       "0      # 0      Topic2*1.0      Topic1*0.0\n",
       "1      # 1     Topic2*0.99      Topic0*0.0\n",
       "2      # 2      Topic1*1.0      Topic2*0.0\n",
       "3      # 3     Topic1*0.99      Topic2*0.0\n",
       "4      # 4      Topic1*1.0      Topic2*0.0\n",
       "5      # 5      Topic2*1.0      Topic1*0.0\n",
       "6      # 6      Topic0*1.0      Topic2*0.0\n",
       "7      # 7      Topic2*1.0      Topic0*0.0\n",
       "8      # 8      Topic1*1.0      Topic0*0.0\n",
       "9      # 9     Topic0*0.99      Topic2*0.0"
      ]
     },
     "execution_count": 15,
     "metadata": {},
     "output_type": "execute_result"
    }
   ],
   "source": [
    "# document-topic matrix\n",
    "doc_topic_matrix = lda.transform(dtm_epl)\n",
    "\n",
    "# specify the number of topics we're interested in\n",
    "no_top_topic = 2\n",
    "rows = []\n",
    "\n",
    "# process each document\n",
    "for doc_id, doc in enumerate(doc_topic_matrix):\n",
    "    row = ['# %d' % doc_id]\n",
    "    # get the top n topics\n",
    "    row += [\n",
    "        'Topic' + str(i) + \"*\" + str(np.round(doc[i], 2))\n",
    "        for i in doc.argsort()[:-no_top_topic - 1:-1]\n",
    "    ]\n",
    "    rows.append(row)\n",
    "\n",
    "doc_topic_df = pd.DataFrame(\n",
    "    rows, columns=['Document', 'Top1 Topic*Prob', 'Top2 Topic*Prob'])\n",
    "\n",
    "doc_topic_df"
   ]
  },
  {
   "cell_type": "code",
   "execution_count": 25,
   "metadata": {},
   "outputs": [],
   "source": [
    "# Test the matching degree between the prediction results and the articles\n",
    "# P for prediction results,A for actual results\n",
    "# 郑爽疑代孕2子，我们再来聊聊代孕 P:topic 2  A: topic 1 & topic 2\n",
    "# 全国人大代表朱列玉：建议有条件允许合法代孕 P:topic 2  A: topic 2\n",
    "# 代孕背后，法律与伦理 P:topic 1  A: topic 2\n",
    "# 为什么反对代孕，这次讲清楚 P:topic 1  A: topic 2\n",
    "# 代孕过程如豪赌！90万包生男孩，畸形会打掉 P:topic 1  A: topic 1\n",
    "# 中国人在国外代孕，到底违法吗？ P:topic 2  A: topic 2\n",
    "# 一个曾经允许商业代孕的大国，发生过什么？ P:topic 0  A: topic 0\n",
    "# 商业代孕，带来的是希望，还是剥削？ P:topic 2  A: topic 1\n",
    "# 在代孕合法的乌克兰，女性成了生育机器，“残次”婴儿会被丢弃 P:topic 1  A: topic 0\n",
    "# 俄罗斯每年代孕十万婴儿 是否禁止代孕引发争论 P:topic 0  A: topic 0\n",
    "\n",
    "# The prediction results and the articles are mostly matched.a\n",
    "# As for some of the wrong predictions,it may be that the article discusses two topics simultaneously"
   ]
  }
 ],
 "metadata": {
  "kernelspec": {
   "display_name": "Python 3",
   "language": "python",
   "name": "python3"
  },
  "language_info": {
   "codemirror_mode": {
    "name": "ipython",
    "version": 3
   },
   "file_extension": ".py",
   "mimetype": "text/x-python",
   "name": "python",
   "nbconvert_exporter": "python",
   "pygments_lexer": "ipython3",
   "version": "3.8.5"
  }
 },
 "nbformat": 4,
 "nbformat_minor": 4
}
